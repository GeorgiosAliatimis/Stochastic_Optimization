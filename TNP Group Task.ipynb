{
 "cells": [
  {
   "cell_type": "markdown",
   "id": "e2160ee4",
   "metadata": {},
   "source": [
    "The data for the given problem is stored in a JSON format.\n",
    "We first read this data from the file and copy the contents to local variables with more convenient names."
   ]
  },
  {
   "cell_type": "code",
   "execution_count": 1,
   "id": "b2b09d49",
   "metadata": {},
   "outputs": [],
   "source": [
    "import numpy as np\n",
    "import json # For the purposes of loading data\n",
    "\n",
    "with open('instance_data.json', 'r') as f:\n",
    "    params_dict = json.load(f)"
   ]
  },
  {
   "cell_type": "code",
   "execution_count": 2,
   "id": "1ba36501",
   "metadata": {},
   "outputs": [
    {
     "data": {
      "text/plain": [
       "[<matplotlib.lines.Line2D at 0x2564f4d2e20>]"
      ]
     },
     "execution_count": 2,
     "metadata": {},
     "output_type": "execute_result"
    },
    {
     "data": {
      "image/png": "[encoded data removed]",
      "text/plain": [
       "<Figure size 432x288 with 1 Axes>"
      ]
     },
     "metadata": {
      "needs_background": "light"
     },
     "output_type": "display_data"
    }
   ],
   "source": [
    "import matplotlib.pyplot as plt\n",
    "plt.plot(params_dict[\"X\"],params_dict[\"Y\"],\"o\")"
   ]
  },
  {
   "cell_type": "code",
   "execution_count": 3,
   "id": "8f51504b",
   "metadata": {},
   "outputs": [],
   "source": [
    "n = params_dict['num_nodes'] # number of nodes in graph\n",
    "\n",
    "nodes = range(1, n + 1) # nodes will be indexed 1,...,n (unlike usually Python indexing)\n",
    "edges = [tuple(l) for l in params_dict['links']] # links in network\n",
    "\n",
    "# Pairs of nodes/customers which have communication demand between them\n",
    "demand_pairs = [tuple(p) for p in params_dict['demand_pairs']] \n",
    "\n",
    "# List of mean demand for each demand pair (in same order of demand_pairs)\n",
    "demand_mean = params_dict['demand_ms'] # Distribution is Gamma(μ, 1/μ) (where second parameter is scale rather than rate)\n",
    "\n",
    "\n",
    "# Routes gives set of valid routes for each demand pair\n",
    "# routes[i] gives the set of the routes for the i-th demand pair\n",
    "# and each route is defined by a set of edges\n",
    "routes_list = params_dict['routes']\n",
    "routes=[]\n",
    "for (i, p) in enumerate(demand_pairs):\n",
    "    routes.append([])\n",
    "    for rs in routes_list[i]:\n",
    "        routes[i].append([edges[l-1] for l in rs])\n",
    "\n",
    "# List containing existing capacity for each link/edge\n",
    "e = params_dict['existing_capacity']\n",
    "# Maximum total additional capacity\n",
    "b = params_dict['total_extra_capacity']"
   ]
  },
  {
   "cell_type": "markdown",
   "id": "bed0e3e5",
   "metadata": {},
   "source": [
    "The following cell defines a function for sampling sets of scenarios. Note that demand has a Gamma distribution and takes as input the means of the Gamma distribution and the number of required scenarios. It returns the scenario set as a list of vectors."
   ]
  },
  {
   "cell_type": "code",
   "execution_count": 4,
   "id": "e01ea5c8",
   "metadata": {},
   "outputs": [],
   "source": [
    "from scipy.stats import gamma\n",
    "from typing import List\n",
    "\n",
    "def sample_scenarios(num_scen : int, demand_mean : List[float]) -> List[np.array]:\n",
    "    scen_set = []\n",
    "    for s in range(num_scen):\n",
    "        #scen = gamma.rvs(np.array(demand_mean), scale=1/np.array(demand_mean))\n",
    "        scen=np.array([gamma.rvs(mu, 1/mu) for mu in demand_mean])\n",
    "        scen_set.append(scen)\n",
    "    return scen_set"
   ]
  },
  {
   "cell_type": "markdown",
   "id": "e362d8e2",
   "metadata": {},
   "source": [
    "The following function implements the recourse function (denoted `h(x,d)` in the paper)."
   ]
  },
  {
   "cell_type": "code",
   "execution_count": 5,
   "id": "80d144f9",
   "metadata": {},
   "outputs": [],
   "source": [
    "from gurobipy import Model, GRB, tupledict, quicksum\n",
    "\n",
    "def solve_tnp_recourse(edges, x, e, demand_pairs, routes, demand_scenario):\n",
    "    m = Model()\n",
    "\n",
    "    m.Params.outputFlag=0 # Change to 1 if you want to see output from Gurobi\n",
    "\n",
    "    num_edges = len(edges)\n",
    "    num_dem_pairs = len(demand_pairs)\n",
    "    num_routes = [len(r) for r in routes]\n",
    "\n",
    "    # Second stage\n",
    "    f = tupledict()\n",
    "    for i in range(num_dem_pairs):\n",
    "        for ri in range(num_routes[i]):\n",
    "            f[i,ri] = m.addVar(name='f[{},{}]'.format(i, ri))\n",
    "                \n",
    "    dem_unsat = m.addVars(num_dem_pairs)\n",
    "    for (li, l) in enumerate(edges):\n",
    "        edge_flow = quicksum(f[i,ri] for i in range(num_dem_pairs)\n",
    "                             for (ri, r) in enumerate(routes[i]) if l in r)\n",
    "        m.addConstr(edge_flow <= x[li] + e[li])\n",
    "\n",
    "    for i in range(num_dem_pairs):\n",
    "        total_flow = quicksum(f[i,ri] for ri in range(num_routes[i]))\n",
    "        m.addConstr(total_flow + dem_unsat[i] == demand_scenario[i])\n",
    "            \n",
    "    m.setObjective(quicksum(dem_unsat[i] for i in range(num_dem_pairs)), GRB.MINIMIZE)\n",
    "    \n",
    "    m.optimize()\n",
    "    return m.objVal, m.getAttr('x', f)"
   ]
  },
  {
   "cell_type": "markdown",
   "id": "de2bcf20",
   "metadata": {},
   "source": [
    "## Deterministic Equivalent"
   ]
  },
  {
   "cell_type": "code",
   "execution_count": 6,
   "id": "63b0c409",
   "metadata": {},
   "outputs": [],
   "source": [
    "def add_scenario(m,x,f,s, edges,e, num_dem_pairs, routes, new_scenario, ind):\n",
    "    # ind is scenario index\n",
    "    num_routes = [len(r) for r in routes]\n",
    "    \n",
    "    #Scenario variables\n",
    "    for i in range(num_dem_pairs):\n",
    "        for ri in range(num_routes[i]):\n",
    "            f[i,ri,ind] = m.addVar(name='f[{},{},{}]'.format(i, ri,ind))\n",
    "                \n",
    "    for i in range(num_dem_pairs):\n",
    "        s[i,ind] = m.addVar(name=\"s[{},{}]\".format(i,ind))\n",
    "    \n",
    "    #Scenrario constraints\n",
    "    for (li, l) in enumerate(edges):\n",
    "        edge_flow = quicksum(f[i,ri,ind] for i in range(num_dem_pairs)\n",
    "                             for (ri, r) in enumerate(routes[i]) if l in r)\n",
    "        m.addConstr(edge_flow <= x[li] + e[li])\n",
    "\n",
    "    for i in range(num_dem_pairs):\n",
    "        total_flow = quicksum(f[i,ri,ind] for ri in range(num_routes[i]))\n",
    "        m.addConstr(total_flow + s[i,ind] == new_scenario[i])"
   ]
  },
  {
   "cell_type": "code",
   "execution_count": 7,
   "id": "586e39ca",
   "metadata": {},
   "outputs": [],
   "source": [
    "def solve_tnp(edges, e, demand_pairs, routes, demand_scenarios, total_capacity):\n",
    "    m = Model()\n",
    "\n",
    "    m.Params.outputFlag=0 # Change to 1 if you want to see output from Gurobi\n",
    "\n",
    "    num_edges = len(edges) # n\n",
    "    num_dem_pairs = len(demand_pairs) # m\n",
    "    num_routes = [len(r) for r in routes] #the sum of this list is p\n",
    "    \n",
    "    x = m.addVars(num_edges)\n",
    "    m.addConstr(quicksum(x[i] for i in range(num_edges)) <= total_capacity )\n",
    "    \n",
    "    f = dict() # decision variable f_irs\n",
    "    s = dict() # decision variable s_is\n",
    "    for ind,scenario in enumerate(demand_scenarios):\n",
    "        add_scenario(m,x,f,s, edges,e, num_dem_pairs, routes, scenario, ind)\n",
    "\n",
    "    N = len(demand_scenarios)\n",
    "    m.setObjective(quicksum(s[i,ind]/N for i in range(num_dem_pairs) for ind in range(N) ), GRB.MINIMIZE)\n",
    "    m.optimize()\n",
    "    return m.objVal, m.getAttr('x', x)"
   ]
  },
  {
   "cell_type": "code",
   "execution_count": null,
   "id": "698998cc",
   "metadata": {},
   "outputs": [],
   "source": [
    "fileName = \"total_capacities\"\n",
    "if fileName in listdir(): \n",
    "    with open(fileName,\"rb\") as f:\n",
    "        data = pkl.load(f)\n",
    "else: \n",
    "    total_capacities = np.linspace(0,5000,20)\n",
    "    N = 300 \n",
    "    np.random.seed(1)\n",
    "    opt_vals_against_capacities = np.zeros(20)\n",
    "    for i,total_capacity in enumerate(total_capacities):\n",
    "        print(\"Total capacity {}\".format(total_capacity))\n",
    "        demand_scenarios = sample_scenarios(N, demand_mean)\n",
    "        opt_vals_against_capacities[i] , _ = solve_tnp(edges, e, demand_pairs, routes, demand_scenarios, total_capacity)\n",
    "\n",
    "    with open(fileName,\"wb\") as f:\n",
    "        pkl.dump(dict(opt_vals_against_capacities) ,f)"
   ]
  },
  {
   "cell_type": "code",
   "execution_count": null,
   "id": "f7d53e5d",
   "metadata": {},
   "outputs": [],
   "source": [
    "plt.plot(total_capacities, opt_vals_against_capacities)"
   ]
  },
  {
   "cell_type": "code",
   "execution_count": 8,
   "id": "c7bff175",
   "metadata": {},
   "outputs": [],
   "source": [
    "from os import listdir\n",
    "import pickle as pkl \n",
    "\n",
    "fileName = \"x_tilde.pkl\"\n",
    "\n",
    "if fileName in listdir(): \n",
    "    with open(fileName,\"rb\") as f:\n",
    "        x_tilde = pkl.load(f)\n",
    "else: \n",
    "    np.random.seed(1)\n",
    "    N = 1000 \n",
    "    demand_scenarios = sample_scenarios(N, demand_mean)\n",
    "    opt_val, x_tilde = solve_tnp(edges, e, demand_pairs, routes, demand_scenarios, b)\n",
    "    print(\"Optimal value for N={} is {}\".format(N,opt_val))\n",
    "    with open(fileName,\"wb\") as f:\n",
    "        pkl.dump(dict(x_tilde),f)"
   ]
  },
  {
   "cell_type": "code",
   "execution_count": 9,
   "id": "59ac54b9",
   "metadata": {},
   "outputs": [],
   "source": [
    "def out_of_sample_estimate(demand_scenarios,*args):\n",
    "    G = 0\n",
    "    for scenario in demand_scenarios:\n",
    "        opt_val,_ = solve_tnp_recourse(demand_scenario=scenario, *args)\n",
    "        G += opt_val\n",
    "    return G/len(demand_scenarios)"
   ]
  },
  {
   "cell_type": "code",
   "execution_count": 10,
   "id": "29f50a93",
   "metadata": {},
   "outputs": [],
   "source": [
    "def sample_scenarios_antithetical(num_scen, demand_mean):\n",
    "    scen_set = []\n",
    "    uniform_sample = np.random.random((num_scen//2, len(demand_mean)))\n",
    "    def append_scenario(u):\n",
    "        scen=np.array([ gamma.ppf(ui,a=mu,loc=1/mu) for mu,ui in zip(demand_mean,u) ])\n",
    "        scen_set.append(scen)\n",
    "    for u in uniform_sample:\n",
    "        append_scenario(u)\n",
    "        append_scenario(1-u)\n",
    "    if num_scen%2:  append_scenario(np.random.random(len(demand_mean)))\n",
    "    \n",
    "    return scen_set"
   ]
  },
  {
   "cell_type": "code",
   "execution_count": 11,
   "id": "264107d5",
   "metadata": {},
   "outputs": [],
   "source": [
    "from scipy.stats import t\n",
    "\n",
    "def optimality_gap(n,m,x_tilde,method):\n",
    "    z_n = np.zeros(m)\n",
    "    G_n = np.zeros(m)\n",
    "\n",
    "    for i in range(m):\n",
    "        print(\".\",end=\"\")\n",
    "        demand_scenarios = method(n, demand_mean)\n",
    "        z_n[i], _ =  solve_tnp(edges, e, demand_pairs, routes, demand_scenarios, b)\n",
    "        G_n[i]    =  out_of_sample_estimate(demand_scenarios,edges, x_tilde , e, demand_pairs, routes)\n",
    "    G_n  -= z_n\n",
    "    print()\n",
    "    return G_n \n",
    "\n",
    "def extract_statistics(G_n,alpha=0.05):\n",
    "    sd = np.std(G_n)\n",
    "    upper_bound = np.mean(G_n)+t.ppf(1-alpha, m-1)/np.sqrt(m)*sd\n",
    "\n",
    "    return np.mean(G_n),upper_bound"
   ]
  },
  {
   "cell_type": "code",
   "execution_count": 12,
   "id": "63c8bd08",
   "metadata": {
    "scrolled": true
   },
   "outputs": [
    {
     "name": "stdout",
     "output_type": "stream",
     "text": [
      ".Academic license - for non-commercial use only - expires 2022-10-10\n",
      "Using license file C:\\Users\\aliatimi\\gurobi.lic\n",
      "......................................................................"
     ]
    },
    {
     "ename": "KeyboardInterrupt",
     "evalue": "",
     "output_type": "error",
     "traceback": [
      "\u001b[1;31m---------------------------------------------------------------------------\u001b[0m",
      "\u001b[1;31mKeyboardInterrupt\u001b[0m                         Traceback (most recent call last)",
      "\u001b[1;32m~\\AppData\\Local\\Temp/ipykernel_60076/4163779762.py\u001b[0m in \u001b[0;36m<module>\u001b[1;34m\u001b[0m\n\u001b[0;32m      3\u001b[0m \u001b[0mm\u001b[0m\u001b[1;33m=\u001b[0m\u001b[1;36m100\u001b[0m\u001b[1;33m\u001b[0m\u001b[1;33m\u001b[0m\u001b[0m\n\u001b[0;32m      4\u001b[0m \u001b[0mnp\u001b[0m\u001b[1;33m.\u001b[0m\u001b[0mrandom\u001b[0m\u001b[1;33m.\u001b[0m\u001b[0mseed\u001b[0m\u001b[1;33m(\u001b[0m\u001b[1;36m1\u001b[0m\u001b[1;33m)\u001b[0m\u001b[1;33m\u001b[0m\u001b[1;33m\u001b[0m\u001b[0m\n\u001b[1;32m----> 5\u001b[1;33m \u001b[0mG_n\u001b[0m \u001b[1;33m=\u001b[0m \u001b[0moptimality_gap\u001b[0m\u001b[1;33m(\u001b[0m\u001b[0mn\u001b[0m\u001b[1;33m,\u001b[0m\u001b[0mm\u001b[0m\u001b[1;33m,\u001b[0m\u001b[0mx_tilde\u001b[0m\u001b[1;33m,\u001b[0m\u001b[0msample_scenarios_antithetical\u001b[0m\u001b[1;33m)\u001b[0m\u001b[1;33m\u001b[0m\u001b[1;33m\u001b[0m\u001b[0m\n\u001b[0m\u001b[0;32m      6\u001b[0m \u001b[0mprint\u001b[0m\u001b[1;33m(\u001b[0m\u001b[0mextract_statistics\u001b[0m\u001b[1;33m(\u001b[0m\u001b[0mG_n\u001b[0m\u001b[1;33m)\u001b[0m\u001b[1;33m)\u001b[0m\u001b[1;33m\u001b[0m\u001b[1;33m\u001b[0m\u001b[0m\n\u001b[0;32m      7\u001b[0m \u001b[0mG_n\u001b[0m \u001b[1;33m=\u001b[0m \u001b[0moptimality_gap\u001b[0m\u001b[1;33m(\u001b[0m\u001b[0mn\u001b[0m\u001b[1;33m,\u001b[0m\u001b[0mm\u001b[0m\u001b[1;33m,\u001b[0m\u001b[0mx_tilde\u001b[0m\u001b[1;33m,\u001b[0m\u001b[0msample_scenarios\u001b[0m\u001b[1;33m)\u001b[0m\u001b[1;33m\u001b[0m\u001b[1;33m\u001b[0m\u001b[0m\n",
      "\u001b[1;32m~\\AppData\\Local\\Temp/ipykernel_60076/3166732091.py\u001b[0m in \u001b[0;36moptimality_gap\u001b[1;34m(n, m, x_tilde, method)\u001b[0m\n\u001b[0;32m      8\u001b[0m         \u001b[0mprint\u001b[0m\u001b[1;33m(\u001b[0m\u001b[1;34m\".\"\u001b[0m\u001b[1;33m,\u001b[0m\u001b[0mend\u001b[0m\u001b[1;33m=\u001b[0m\u001b[1;34m\"\"\u001b[0m\u001b[1;33m)\u001b[0m\u001b[1;33m\u001b[0m\u001b[1;33m\u001b[0m\u001b[0m\n\u001b[0;32m      9\u001b[0m         \u001b[0mdemand_scenarios\u001b[0m \u001b[1;33m=\u001b[0m \u001b[0mmethod\u001b[0m\u001b[1;33m(\u001b[0m\u001b[0mn\u001b[0m\u001b[1;33m,\u001b[0m \u001b[0mdemand_mean\u001b[0m\u001b[1;33m)\u001b[0m\u001b[1;33m\u001b[0m\u001b[1;33m\u001b[0m\u001b[0m\n\u001b[1;32m---> 10\u001b[1;33m         \u001b[0mz_n\u001b[0m\u001b[1;33m[\u001b[0m\u001b[0mi\u001b[0m\u001b[1;33m]\u001b[0m\u001b[1;33m,\u001b[0m \u001b[0m_\u001b[0m \u001b[1;33m=\u001b[0m  \u001b[0msolve_tnp\u001b[0m\u001b[1;33m(\u001b[0m\u001b[0medges\u001b[0m\u001b[1;33m,\u001b[0m \u001b[0me\u001b[0m\u001b[1;33m,\u001b[0m \u001b[0mdemand_pairs\u001b[0m\u001b[1;33m,\u001b[0m \u001b[0mroutes\u001b[0m\u001b[1;33m,\u001b[0m \u001b[0mdemand_scenarios\u001b[0m\u001b[1;33m,\u001b[0m \u001b[0mb\u001b[0m\u001b[1;33m)\u001b[0m\u001b[1;33m\u001b[0m\u001b[1;33m\u001b[0m\u001b[0m\n\u001b[0m\u001b[0;32m     11\u001b[0m         \u001b[0mG_n\u001b[0m\u001b[1;33m[\u001b[0m\u001b[0mi\u001b[0m\u001b[1;33m]\u001b[0m    \u001b[1;33m=\u001b[0m  \u001b[0mout_of_sample_estimate\u001b[0m\u001b[1;33m(\u001b[0m\u001b[0mdemand_scenarios\u001b[0m\u001b[1;33m,\u001b[0m\u001b[0medges\u001b[0m\u001b[1;33m,\u001b[0m \u001b[0mx_tilde\u001b[0m \u001b[1;33m,\u001b[0m \u001b[0me\u001b[0m\u001b[1;33m,\u001b[0m \u001b[0mdemand_pairs\u001b[0m\u001b[1;33m,\u001b[0m \u001b[0mroutes\u001b[0m\u001b[1;33m)\u001b[0m\u001b[1;33m\u001b[0m\u001b[1;33m\u001b[0m\u001b[0m\n\u001b[0;32m     12\u001b[0m     \u001b[0mG_n\u001b[0m  \u001b[1;33m-=\u001b[0m \u001b[0mz_n\u001b[0m\u001b[1;33m\u001b[0m\u001b[1;33m\u001b[0m\u001b[0m\n",
      "\u001b[1;32m~\\AppData\\Local\\Temp/ipykernel_60076/196840365.py\u001b[0m in \u001b[0;36msolve_tnp\u001b[1;34m(edges, e, demand_pairs, routes, demand_scenarios, total_capacity)\u001b[0m\n\u001b[0;32m     18\u001b[0m     \u001b[0mN\u001b[0m \u001b[1;33m=\u001b[0m \u001b[0mlen\u001b[0m\u001b[1;33m(\u001b[0m\u001b[0mdemand_scenarios\u001b[0m\u001b[1;33m)\u001b[0m\u001b[1;33m\u001b[0m\u001b[1;33m\u001b[0m\u001b[0m\n\u001b[0;32m     19\u001b[0m     \u001b[0mm\u001b[0m\u001b[1;33m.\u001b[0m\u001b[0msetObjective\u001b[0m\u001b[1;33m(\u001b[0m\u001b[0mquicksum\u001b[0m\u001b[1;33m(\u001b[0m\u001b[0ms\u001b[0m\u001b[1;33m[\u001b[0m\u001b[0mi\u001b[0m\u001b[1;33m,\u001b[0m\u001b[0mind\u001b[0m\u001b[1;33m]\u001b[0m\u001b[1;33m/\u001b[0m\u001b[0mN\u001b[0m \u001b[1;32mfor\u001b[0m \u001b[0mi\u001b[0m \u001b[1;32min\u001b[0m \u001b[0mrange\u001b[0m\u001b[1;33m(\u001b[0m\u001b[0mnum_dem_pairs\u001b[0m\u001b[1;33m)\u001b[0m \u001b[1;32mfor\u001b[0m \u001b[0mind\u001b[0m \u001b[1;32min\u001b[0m \u001b[0mrange\u001b[0m\u001b[1;33m(\u001b[0m\u001b[0mN\u001b[0m\u001b[1;33m)\u001b[0m \u001b[1;33m)\u001b[0m\u001b[1;33m,\u001b[0m \u001b[0mGRB\u001b[0m\u001b[1;33m.\u001b[0m\u001b[0mMINIMIZE\u001b[0m\u001b[1;33m)\u001b[0m\u001b[1;33m\u001b[0m\u001b[1;33m\u001b[0m\u001b[0m\n\u001b[1;32m---> 20\u001b[1;33m     \u001b[0mm\u001b[0m\u001b[1;33m.\u001b[0m\u001b[0moptimize\u001b[0m\u001b[1;33m(\u001b[0m\u001b[1;33m)\u001b[0m\u001b[1;33m\u001b[0m\u001b[1;33m\u001b[0m\u001b[0m\n\u001b[0m\u001b[0;32m     21\u001b[0m     \u001b[1;32mreturn\u001b[0m \u001b[0mm\u001b[0m\u001b[1;33m.\u001b[0m\u001b[0mobjVal\u001b[0m\u001b[1;33m,\u001b[0m \u001b[0mm\u001b[0m\u001b[1;33m.\u001b[0m\u001b[0mgetAttr\u001b[0m\u001b[1;33m(\u001b[0m\u001b[1;34m'x'\u001b[0m\u001b[1;33m,\u001b[0m \u001b[0mx\u001b[0m\u001b[1;33m)\u001b[0m\u001b[1;33m\u001b[0m\u001b[1;33m\u001b[0m\u001b[0m\n",
      "\u001b[1;31mKeyboardInterrupt\u001b[0m: "
     ]
    }
   ],
   "source": [
    "## Estimate of optimality gap using x_tilde (trained at 1000 samples) \n",
    "n=5\n",
    "m=100\n",
    "np.random.seed(1)\n",
    "G_n = optimality_gap(n,m,x_tilde,sample_scenarios_antithetical)\n",
    "print(extract_statistics(G_n))\n",
    "G_n = optimality_gap(n,m,x_tilde,sample_scenarios)\n",
    "print(extract_statistics(G_n))"
   ]
  },
  {
   "cell_type": "code",
   "execution_count": 12,
   "id": "eb0c7ead",
   "metadata": {},
   "outputs": [],
   "source": [
    "def opt_gaps_and_upper_bounds(method,n_vals):\n",
    "    optimality_gaps = list()\n",
    "    upper_bounds = list()\n",
    "    m = 10\n",
    "    for n in n_vals:   \n",
    "        print(\"n={} using {}\".format(n,method.__name__), end=\"\")\n",
    "        G_n = optimality_gap(int(n),m,x_tilde,method)\n",
    "        gap , ub = extract_statistics(G_n)\n",
    "        optimality_gaps.append(gap)\n",
    "        upper_bounds.append(ub)\n",
    "    return np.array(optimality_gaps), np.array(upper_bounds)"
   ]
  },
  {
   "cell_type": "code",
   "execution_count": 13,
   "id": "d7ecf561",
   "metadata": {},
   "outputs": [],
   "source": [
    "n_vals = np.concatenate((np.linspace(5,50,10),np.linspace(60,100,5)))"
   ]
  },
  {
   "cell_type": "code",
   "execution_count": 14,
   "id": "272810d0",
   "metadata": {},
   "outputs": [],
   "source": [
    "fileName = \"optimality_gap_ant.pkl\"\n",
    "if fileName in listdir(): \n",
    "    with open(fileName,\"rb\") as f:\n",
    "        data = pkl.load(f)\n",
    "        opt_gaps_ant = data[\"opt_gaps\"]\n",
    "        ubs_ant = data[\"ubs\"]\n",
    "else: \n",
    "    np.random.seed(1)\n",
    "    opt_gaps_ant, ubs_ant = opt_gaps_and_upper_bounds(sample_scenarios_antithetical,n_vals)\n",
    "    with open(fileName,\"wb\") as f:\n",
    "        pkl.dump(dict(opt_gaps=opt_gaps_ant,ubs=ubs_ant),f)"
   ]
  },
  {
   "cell_type": "code",
   "execution_count": 15,
   "id": "309f4c39",
   "metadata": {},
   "outputs": [],
   "source": [
    "fileName = \"optimality_gap_iid.pkl\"\n",
    "if fileName in listdir(): \n",
    "    with open(fileName,\"rb\") as f:\n",
    "        data = pkl.load(f)\n",
    "        opt_gaps_iid = data[\"opt_gaps\"]\n",
    "        ubs_iid = data[\"ubs\"]\n",
    "else: \n",
    "    np.random.seed(1)\n",
    "    opt_gaps_iid, ubs_iid = opt_gaps_and_upper_bounds(sample_scenarios,n_vals)\n",
    "    with open(fileName,\"wb\") as f:\n",
    "        pkl.dump(dict(opt_gaps=opt_gaps_iid,ubs=ubs_iid),f)"
   ]
  },
  {
   "cell_type": "code",
   "execution_count": 16,
   "id": "f9fe6203",
   "metadata": {},
   "outputs": [
    {
     "data": {
      "text/plain": [
       "[<matplotlib.lines.Line2D at 0x25650bc4fd0>]"
      ]
     },
     "execution_count": 16,
     "metadata": {},
     "output_type": "execute_result"
    },
    {
     "data": {
      "image/png": "[encoded data removed]",
      "text/plain": [
       "<Figure size 432x288 with 1 Axes>"
      ]
     },
     "metadata": {
      "needs_background": "light"
     },
     "output_type": "display_data"
    }
   ],
   "source": [
    "# plt.semilogy(n_vals, opt_gaps_iid )\n",
    "# plt.semilogy(n_vals, opt_gaps_ant )\n",
    "\n",
    "plt.plot(n_vals, ubs_iid - opt_gaps_iid)\n",
    "plt.plot(n_vals,ubs_ant - opt_gaps_ant)"
   ]
  },
  {
   "cell_type": "code",
   "execution_count": 18,
   "id": "224e2392",
   "metadata": {},
   "outputs": [],
   "source": [
    "# plt.errorbar(n_vals,optimality_Gaps)"
   ]
  },
  {
   "cell_type": "markdown",
   "id": "89bdb011",
   "metadata": {},
   "source": [
    "## Risk aversion"
   ]
  },
  {
   "cell_type": "code",
   "execution_count": 17,
   "id": "7ddec2fe",
   "metadata": {},
   "outputs": [
    {
     "name": "stdout",
     "output_type": "stream",
     "text": [
      "Academic license - for non-commercial use only - expires 2022-10-10\n",
      "Using license file C:\\Users\\aliatimi\\gurobi.lic\n"
     ]
    },
    {
     "data": {
      "text/plain": [
       "(array([0.07033121, 0.03127888, 0.02387559, 0.01665739, 0.01314083,\n",
       "        0.00906902, 0.0083287 , 0.00351656, 0.00351656, 0.00222099,\n",
       "        0.00111049, 0.00074033, 0.00037016, 0.00055525, 0.00018508,\n",
       "        0.        , 0.        , 0.        , 0.        , 0.00018508]),\n",
       " array([  0.        ,   5.40300682,  10.80601364,  16.20902045,\n",
       "         21.61202727,  27.01503409,  32.41804091,  37.82104772,\n",
       "         43.22405454,  48.62706136,  54.03006818,  59.43307499,\n",
       "         64.83608181,  70.23908863,  75.64209545,  81.04510226,\n",
       "         86.44810908,  91.8511159 ,  97.25412272, 102.65712953,\n",
       "        108.06013635]),\n",
       " <BarContainer object of 20 artists>)"
      ]
     },
     "execution_count": 17,
     "metadata": {},
     "output_type": "execute_result"
    },
    {
     "data": {
      "image/png": "[encoded data removed]",
      "text/plain": [
       "<Figure size 432x288 with 1 Axes>"
      ]
     },
     "metadata": {
      "needs_background": "light"
     },
     "output_type": "display_data"
    }
   ],
   "source": [
    "np.random.seed(1)\n",
    "N = 1000\n",
    "sample_scens = sample_scenarios_antithetical(N,demand_mean)\n",
    "opt_vals = np.zeros(N)\n",
    "for i in range(N):\n",
    "    opt_vals[i], _ = solve_tnp_recourse(edges, x_tilde, e, demand_pairs, routes, sample_scens[i])\n",
    "plt.hist(opt_vals,density=True,bins=20)"
   ]
  },
  {
   "cell_type": "code",
   "execution_count": 18,
   "id": "dc81909e",
   "metadata": {},
   "outputs": [],
   "source": [
    "def solve_tnp_with_beta_cvar(edges, e, demand_pairs, routes, demand_scenarios, total_capacity,beta=0.95):\n",
    "    m = Model()\n",
    "\n",
    "    m.Params.outputFlag=0 # Change to 1 if you want to see output from Gurobi\n",
    "\n",
    "    num_edges = len(edges) # n\n",
    "    num_dem_pairs = len(demand_pairs) # m\n",
    "    num_routes = [len(r) for r in routes] #the sum of this list is p\n",
    "    \n",
    "    x = m.addVars(num_edges)\n",
    "    m.addConstr(quicksum(x[i] for i in range(num_edges)) <= total_capacity )\n",
    "    \n",
    "    f = dict() # decision variable f_irs\n",
    "    s = dict() # decision variable s_is\n",
    "    for ind,scenario in enumerate(demand_scenarios):\n",
    "        add_scenario(m,x,f,s, edges,e, num_dem_pairs, routes, scenario, ind)\n",
    "    \n",
    "    N = len(demand_scenarios)\n",
    "    alpha = m.addVar(name=\"alpha\")    \n",
    "    u = m.addVars(N)\n",
    "    \n",
    "    m.addConstrs(u[ind] - quicksum(s[i,ind] for i in range(num_dem_pairs) ) + alpha >= 0 for ind in range(N)) \n",
    "    m.setObjective(alpha + 1/(1-beta) * 1/N * quicksum(u[ind] for ind in range(N)) ,GRB.MINIMIZE)\n",
    "    m.optimize()\n",
    "    return m.objVal, m.getAttr('x', x), m.getAttr('x',s), m.getVarByName(\"alpha\").x"
   ]
  },
  {
   "cell_type": "code",
   "execution_count": 19,
   "id": "4fa32db0",
   "metadata": {},
   "outputs": [],
   "source": [
    "fileName = \"x_tilde_cvar.pkl\"\n",
    "\n",
    "if fileName in listdir(): \n",
    "    with open(fileName,\"rb\") as f:\n",
    "        x_tilde = pkl.load(f)\n",
    "else: \n",
    "    np.random.seed(1)\n",
    "    N = 1500\n",
    "    demand_scenarios = sample_scenarios_antithetical(N, demand_mean)\n",
    "    x_tilde_cvar = solve_tnp_with_beta_cvar(edges, e, demand_pairs, routes, demand_scenarios, b,beta=0.5)[1]\n",
    "    with open(fileName,\"wb\") as f:\n",
    "        pkl.dump(dict(x_tilde_cvar),f)"
   ]
  },
  {
   "cell_type": "code",
   "execution_count": 30,
   "id": "79adcfe8",
   "metadata": {},
   "outputs": [
    {
     "data": {
      "text/plain": [
       "(array([0.05543607, 0.03457084, 0.03027505, 0.02311541, 0.01718314,\n",
       "        0.01493296, 0.00879613, 0.00756876, 0.00593227, 0.00327298,\n",
       "        0.00081824, 0.00081824, 0.00102281, 0.00040912, 0.00020456,\n",
       "        0.        , 0.        , 0.        , 0.        , 0.00020456]),\n",
       " array([ 0.        ,  4.8885136 ,  9.7770272 , 14.6655408 , 19.55405439,\n",
       "        24.44256799, 29.33108159, 34.21959519, 39.10810879, 43.99662239,\n",
       "        48.88513599, 53.77364958, 58.66216318, 63.55067678, 68.43919038,\n",
       "        73.32770398, 78.21621758, 83.10473118, 87.99324477, 92.88175837,\n",
       "        97.77027197]),\n",
       " <BarContainer object of 20 artists>)"
      ]
     },
     "execution_count": 30,
     "metadata": {},
     "output_type": "execute_result"
    },
    {
     "data": {
      "image/png": "[encoded data removed]",
      "text/plain": [
       "<Figure size 432x288 with 1 Axes>"
      ]
     },
     "metadata": {
      "needs_background": "light"
     },
     "output_type": "display_data"
    }
   ],
   "source": [
    "np.random.seed(1)\n",
    "N = 1000\n",
    "sample_scens = sample_scenarios_antithetical(N,demand_mean)\n",
    "opt_vals = np.zeros(N)\n",
    "for i in range(N):\n",
    "    opt_vals[i], _ = solve_tnp_recourse(edges, x_tilde_cvar, e, demand_pairs, routes, sample_scens[i])\n",
    "plt.hist(opt_vals,density=True,bins=20)"
   ]
  },
  {
   "cell_type": "code",
   "execution_count": 152,
   "id": "983ceef8",
   "metadata": {},
   "outputs": [
    {
     "data": {
      "text/plain": [
       "(array([0.07033121, 0.03127888, 0.02387559, 0.01665739, 0.01314083,\n",
       "        0.00906902, 0.0083287 , 0.00351656, 0.00351656, 0.00222099,\n",
       "        0.00111049, 0.00074033, 0.00037016, 0.00055525, 0.00018508,\n",
       "        0.        , 0.        , 0.        , 0.        , 0.00018508]),\n",
       " array([  0.        ,   5.40300682,  10.80601364,  16.20902045,\n",
       "         21.61202727,  27.01503409,  32.41804091,  37.82104772,\n",
       "         43.22405454,  48.62706136,  54.03006818,  59.43307499,\n",
       "         64.83608181,  70.23908863,  75.64209545,  81.04510226,\n",
       "         86.44810908,  91.8511159 ,  97.25412272, 102.65712953,\n",
       "        108.06013635]),\n",
       " <BarContainer object of 20 artists>)"
      ]
     },
     "execution_count": 152,
     "metadata": {},
     "output_type": "execute_result"
    },
    {
     "data": {
      "image/png": "[encoded data removed]",
      "text/plain": [
       "<Figure size 432x288 with 1 Axes>"
      ]
     },
     "metadata": {
      "needs_background": "light"
     },
     "output_type": "display_data"
    }
   ],
   "source": [
    "np.random.seed(1)\n",
    "N = 1000\n",
    "sample_scens = sample_scenarios_antithetical(N,demand_mean)\n",
    "opt_vals = np.zeros(N)\n",
    "for i in range(N):\n",
    "    opt_vals[i], _ = solve_tnp_recourse(edges, x_tilde, e, demand_pairs, routes, sample_scens[i])\n",
    "plt.hist(opt_vals,density=True,bins=20)"
   ]
  },
  {
   "cell_type": "code",
   "execution_count": null,
   "id": "a70719a9",
   "metadata": {},
   "outputs": [],
   "source": [
    "np.random.seed(1)\n",
    "N = 1000\n",
    "sample_scens = sample_scenarios_antithetical(N,demand_mean)\n",
    "opt_vals = np.zeros(N)\n",
    "for i in range(N):\n",
    "    opt_vals[i], _ = solve_tnp_recourse(edges, x_tilde, e, demand_pairs, routes, sample_scens[i])\n",
    "plt.hist(opt_vals,density=True,bins=20)"
   ]
  },
  {
   "cell_type": "code",
   "execution_count": 147,
   "id": "f5a6a08c",
   "metadata": {},
   "outputs": [],
   "source": [
    "def get_expected_loss(s, num_scen):\n",
    "    num_dem_pairs = len(demand_pairs) \n",
    "    return sum(s[i,ind] for i in range(num_dem_pairs) for ind in range(num_scen))/num_scen"
   ]
  },
  {
   "cell_type": "code",
   "execution_count": 149,
   "id": "e0d74648",
   "metadata": {},
   "outputs": [
    {
     "name": "stdout",
     "output_type": "stream",
     "text": [
      "39.31000811812583\n",
      "35.10896449117402\n"
     ]
    },
    {
     "data": {
      "text/plain": [
       "35.31546155506323"
      ]
     },
     "execution_count": 149,
     "metadata": {},
     "output_type": "execute_result"
    }
   ],
   "source": [
    "N=200\n",
    "np.random.seed(1)\n",
    "demand_scenarios = sample_scenarios(N, demand_mean)\n",
    "opt_val, _ , opt_s,opt_alpha = solve_tnp_with_beta_cvar(edges, e, demand_pairs, routes, demand_scenarios, b,beta=0.95)\n",
    "print(opt_val)\n",
    "print(opt_alpha)\n",
    "get_expected_loss(opt_s, N)"
   ]
  },
  {
   "cell_type": "code",
   "execution_count": 100,
   "id": "256d5fc0",
   "metadata": {},
   "outputs": [
    {
     "name": "stdout",
     "output_type": "stream",
     "text": [
      "8200\n"
     ]
    }
   ],
   "source": [
    "print(len(opt_s))"
   ]
  },
  {
   "cell_type": "code",
   "execution_count": 90,
   "id": "8cd60444",
   "metadata": {},
   "outputs": [
    {
     "name": "stdout",
     "output_type": "stream",
     "text": [
      "Optimal value for N=100 using beta-cvar with beta=0 is 11.743300463844731\n",
      "Optimal value for N=100 using the original tnp formulation is 11.743300463844427\n"
     ]
    }
   ],
   "source": [
    "N=100\n",
    "np.random.seed(1)\n",
    "demand_scenarios = sample_scenarios(N, demand_mean)\n",
    "opt_val, _ = solve_tnp_with_beta_cvar(edges, e, demand_pairs, routes, demand_scenarios, b,beta=0)\n",
    "print(\"Optimal value for N={} using beta-cvar with beta=0 is {}\".format(N,opt_val))\n",
    "opt_val, _ = solve_tnp(edges, e, demand_pairs, routes, demand_scenarios, b)\n",
    "print(\"Optimal value for N={} using the original tnp formulation is {}\".format(N,opt_val))\n",
    "# Note that they have the same optimal value since for beta = 0 the beta-cvar problem\n",
    "# reduces to the original problem"
   ]
  },
  {
   "cell_type": "code",
   "execution_count": 88,
   "id": "28b5efa7",
   "metadata": {},
   "outputs": [
    {
     "name": "stdout",
     "output_type": "stream",
     "text": [
      "Optimal value for N=300 is 46.331569589061644\n",
      "Optimal value for N=300 is 37.584383934054685\n",
      "Optimal value for N=300 is 43.00886973739474\n",
      "Optimal value for N=300 is 41.47940375005446\n",
      "Optimal value for N=300 is 47.05334284665034\n"
     ]
    }
   ],
   "source": [
    "np.random.seed(1)\n",
    "for _ in range(5):\n",
    "    N = 300\n",
    "    demand_scenarios = sample_scenarios(N, demand_mean)\n",
    "    opt_val, x_tilde = solve_tnp_with_beta_cvar(edges, e, demand_pairs, routes, demand_scenarios, b,beta=0.95)\n",
    "    print(\"Optimal value for N={} is {}\".format(N,opt_val))"
   ]
  },
  {
   "cell_type": "code",
   "execution_count": 96,
   "id": "0f5fa72f",
   "metadata": {},
   "outputs": [
    {
     "name": "stdout",
     "output_type": "stream",
     "text": [
      "beta=0.0\n",
      "beta=0.049999999999999996\n",
      "beta=0.09999999999999999\n"
     ]
    },
    {
     "ename": "KeyboardInterrupt",
     "evalue": "",
     "output_type": "error",
     "traceback": [
      "\u001b[1;31m---------------------------------------------------------------------------\u001b[0m",
      "\u001b[1;31mKeyboardInterrupt\u001b[0m                         Traceback (most recent call last)",
      "\u001b[1;32m~\\AppData\\Local\\Temp/ipykernel_13960/3256497106.py\u001b[0m in \u001b[0;36m<module>\u001b[1;34m\u001b[0m\n\u001b[0;32m     10\u001b[0m     \u001b[1;32mfor\u001b[0m \u001b[0mj\u001b[0m \u001b[1;32min\u001b[0m \u001b[0mrange\u001b[0m\u001b[1;33m(\u001b[0m\u001b[0mM\u001b[0m\u001b[1;33m)\u001b[0m\u001b[1;33m:\u001b[0m\u001b[1;33m\u001b[0m\u001b[1;33m\u001b[0m\u001b[0m\n\u001b[0;32m     11\u001b[0m         \u001b[0mdemand_scenarios\u001b[0m \u001b[1;33m=\u001b[0m \u001b[0msample_scenarios\u001b[0m\u001b[1;33m(\u001b[0m\u001b[0mN\u001b[0m\u001b[1;33m,\u001b[0m \u001b[0mdemand_mean\u001b[0m\u001b[1;33m)\u001b[0m\u001b[1;33m\u001b[0m\u001b[1;33m\u001b[0m\u001b[0m\n\u001b[1;32m---> 12\u001b[1;33m         \u001b[0mopt_val\u001b[0m\u001b[1;33m,\u001b[0m \u001b[0m_\u001b[0m \u001b[1;33m=\u001b[0m \u001b[0msolve_tnp_with_beta_cvar\u001b[0m\u001b[1;33m(\u001b[0m\u001b[0medges\u001b[0m\u001b[1;33m,\u001b[0m \u001b[0me\u001b[0m\u001b[1;33m,\u001b[0m \u001b[0mdemand_pairs\u001b[0m\u001b[1;33m,\u001b[0m \u001b[0mroutes\u001b[0m\u001b[1;33m,\u001b[0m \u001b[0mdemand_scenarios\u001b[0m\u001b[1;33m,\u001b[0m \u001b[0mb\u001b[0m\u001b[1;33m,\u001b[0m\u001b[0mbeta\u001b[0m\u001b[1;33m)\u001b[0m\u001b[1;33m\u001b[0m\u001b[1;33m\u001b[0m\u001b[0m\n\u001b[0m\u001b[0;32m     13\u001b[0m         \u001b[0mopt_vals\u001b[0m\u001b[1;33m[\u001b[0m\u001b[0mi\u001b[0m\u001b[1;33m,\u001b[0m\u001b[0mj\u001b[0m\u001b[1;33m]\u001b[0m \u001b[1;33m=\u001b[0m \u001b[0mopt_val\u001b[0m\u001b[1;33m\u001b[0m\u001b[1;33m\u001b[0m\u001b[0m\n\u001b[0;32m     14\u001b[0m \u001b[1;31m#     print(\"Optimal value for beta={} is {}\".format(beta,opt_val))\u001b[0m\u001b[1;33m\u001b[0m\u001b[1;33m\u001b[0m\u001b[0m\n",
      "\u001b[1;32m~\\AppData\\Local\\Temp/ipykernel_13960/3802961175.py\u001b[0m in \u001b[0;36msolve_tnp_with_beta_cvar\u001b[1;34m(edges, e, demand_pairs, routes, demand_scenarios, total_capacity, beta)\u001b[0m\n\u001b[0;32m     22\u001b[0m     \u001b[0mm\u001b[0m\u001b[1;33m.\u001b[0m\u001b[0maddConstrs\u001b[0m\u001b[1;33m(\u001b[0m\u001b[0mu\u001b[0m\u001b[1;33m[\u001b[0m\u001b[0mind\u001b[0m\u001b[1;33m]\u001b[0m \u001b[1;33m-\u001b[0m \u001b[0mquicksum\u001b[0m\u001b[1;33m(\u001b[0m\u001b[0ms\u001b[0m\u001b[1;33m[\u001b[0m\u001b[0mi\u001b[0m\u001b[1;33m,\u001b[0m\u001b[0mind\u001b[0m\u001b[1;33m]\u001b[0m \u001b[1;32mfor\u001b[0m \u001b[0mi\u001b[0m \u001b[1;32min\u001b[0m \u001b[0mrange\u001b[0m\u001b[1;33m(\u001b[0m\u001b[0mnum_dem_pairs\u001b[0m\u001b[1;33m)\u001b[0m \u001b[1;33m)\u001b[0m \u001b[1;33m+\u001b[0m \u001b[0malpha\u001b[0m \u001b[1;33m>=\u001b[0m \u001b[1;36m0\u001b[0m \u001b[1;32mfor\u001b[0m \u001b[0mind\u001b[0m \u001b[1;32min\u001b[0m \u001b[0mrange\u001b[0m\u001b[1;33m(\u001b[0m\u001b[0mN\u001b[0m\u001b[1;33m)\u001b[0m\u001b[1;33m)\u001b[0m\u001b[1;33m\u001b[0m\u001b[1;33m\u001b[0m\u001b[0m\n\u001b[0;32m     23\u001b[0m     \u001b[0mm\u001b[0m\u001b[1;33m.\u001b[0m\u001b[0msetObjective\u001b[0m\u001b[1;33m(\u001b[0m\u001b[0malpha\u001b[0m \u001b[1;33m+\u001b[0m \u001b[1;36m1\u001b[0m\u001b[1;33m/\u001b[0m\u001b[1;33m(\u001b[0m\u001b[1;36m1\u001b[0m\u001b[1;33m-\u001b[0m\u001b[0mbeta\u001b[0m\u001b[1;33m)\u001b[0m \u001b[1;33m*\u001b[0m \u001b[1;36m1\u001b[0m\u001b[1;33m/\u001b[0m\u001b[0mN\u001b[0m \u001b[1;33m*\u001b[0m \u001b[0mquicksum\u001b[0m\u001b[1;33m(\u001b[0m\u001b[0mu\u001b[0m\u001b[1;33m[\u001b[0m\u001b[0mind\u001b[0m\u001b[1;33m]\u001b[0m \u001b[1;32mfor\u001b[0m \u001b[0mind\u001b[0m \u001b[1;32min\u001b[0m \u001b[0mrange\u001b[0m\u001b[1;33m(\u001b[0m\u001b[0mN\u001b[0m\u001b[1;33m)\u001b[0m\u001b[1;33m)\u001b[0m \u001b[1;33m,\u001b[0m\u001b[0mGRB\u001b[0m\u001b[1;33m.\u001b[0m\u001b[0mMINIMIZE\u001b[0m\u001b[1;33m)\u001b[0m\u001b[1;33m\u001b[0m\u001b[1;33m\u001b[0m\u001b[0m\n\u001b[1;32m---> 24\u001b[1;33m     \u001b[0mm\u001b[0m\u001b[1;33m.\u001b[0m\u001b[0moptimize\u001b[0m\u001b[1;33m(\u001b[0m\u001b[1;33m)\u001b[0m\u001b[1;33m\u001b[0m\u001b[1;33m\u001b[0m\u001b[0m\n\u001b[0m\u001b[0;32m     25\u001b[0m     \u001b[1;32mreturn\u001b[0m \u001b[0mm\u001b[0m\u001b[1;33m.\u001b[0m\u001b[0mobjVal\u001b[0m\u001b[1;33m,\u001b[0m \u001b[0mm\u001b[0m\u001b[1;33m.\u001b[0m\u001b[0mgetAttr\u001b[0m\u001b[1;33m(\u001b[0m\u001b[1;34m'x'\u001b[0m\u001b[1;33m,\u001b[0m \u001b[0mx\u001b[0m\u001b[1;33m)\u001b[0m\u001b[1;33m\u001b[0m\u001b[1;33m\u001b[0m\u001b[0m\n",
      "\u001b[1;31mKeyboardInterrupt\u001b[0m: "
     ]
    }
   ],
   "source": [
    "N=200\n",
    "M=5\n",
    "\n",
    "beta_vals = np.linspace(0,0.95,20)\n",
    "opt_vals = np.zeros((len(beta_vals),M))\n",
    "\n",
    "np.random.seed(1)\n",
    "for i,beta in enumerate(beta_vals):\n",
    "    print(\"beta={}\".format(round(beta,3)))\n",
    "    for j in range(M):\n",
    "        demand_scenarios = sample_scenarios(N, demand_mean)\n",
    "        opt_val, _ = solve_tnp_with_beta_cvar(edges, e, demand_pairs, routes, demand_scenarios, b,beta)\n",
    "        opt_vals[i,j] = opt_val\n",
    "#     print(\"Optimal value for beta={} is {}\".format(beta,opt_val))"
   ]
  },
  {
   "cell_type": "code",
   "execution_count": 94,
   "id": "bceb0e86",
   "metadata": {},
   "outputs": [
    {
     "data": {
      "text/plain": [
       "[<matplotlib.lines.Line2D at 0x28e0219c4c0>]"
      ]
     },
     "execution_count": 94,
     "metadata": {},
     "output_type": "execute_result"
    },
    {
     "data": {
      "image/png": "[encoded data removed]",
      "text/plain": [
       "<Figure size 432x288 with 1 Axes>"
      ]
     },
     "metadata": {
      "needs_background": "light"
     },
     "output_type": "display_data"
    }
   ],
   "source": [
    "plt.plot(beta_vals,opt_vals,\"o\",color=\"blue\")"
   ]
  }
 ],
 "metadata": {
  "kernelspec": {
   "display_name": "my-env",
   "language": "python",
   "name": "my-env"
  },
  "language_info": {
   "codemirror_mode": {
    "name": "ipython",
    "version": 3
   },
   "file_extension": ".py",
   "mimetype": "text/x-python",
   "name": "python",
   "nbconvert_exporter": "python",
   "pygments_lexer": "ipython3",
   "version": "3.9.7"
  }
 },
 "nbformat": 4,
 "nbformat_minor": 5
}
