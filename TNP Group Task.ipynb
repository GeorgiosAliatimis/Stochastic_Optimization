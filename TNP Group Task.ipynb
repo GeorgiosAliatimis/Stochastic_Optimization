{
 "cells": [
  {
   "cell_type": "markdown",
   "id": "cb8db91a",
   "metadata": {},
   "source": [
    "The data for the given problem is stored in a JSON format.\n",
    "We first read this data from the file and copy the contents to local variables with more convenient names."
   ]
  },
  {
   "cell_type": "code",
   "execution_count": 1,
   "id": "f6d63bb5",
   "metadata": {},
   "outputs": [],
   "source": [
    "import numpy as np\n",
    "import json # For the purposes of loading data\n",
    "\n",
    "with open('instance_data.json', 'r') as f:\n",
    "    params_dict = json.load(f)"
   ]
  },
  {
   "cell_type": "code",
   "execution_count": 2,
   "id": "9e642684",
   "metadata": {},
   "outputs": [
    {
     "data": {
      "text/plain": [
       "[<matplotlib.lines.Line2D at 0x28e59716e20>]"
      ]
     },
     "execution_count": 2,
     "metadata": {},
     "output_type": "execute_result"
    },
    {
     "data": {
      "image/png": "[encoded data removed]",
      "text/plain": [
       "<Figure size 432x288 with 1 Axes>"
      ]
     },
     "metadata": {
      "needs_background": "light"
     },
     "output_type": "display_data"
    }
   ],
   "source": [
    "import matplotlib.pyplot as plt\n",
    "plt.plot(params_dict[\"X\"],params_dict[\"Y\"],\"o\")"
   ]
  },
  {
   "cell_type": "code",
   "execution_count": 3,
   "id": "a752d9ab",
   "metadata": {},
   "outputs": [],
   "source": [
    "n = params_dict['num_nodes'] # number of nodes in graph\n",
    "\n",
    "nodes = range(1, n + 1) # nodes will be indexed 1,...,n (unlike usually Python indexing)\n",
    "edges = [tuple(l) for l in params_dict['links']] # links in network\n",
    "\n",
    "# Pairs of nodes/customers which have communication demand between them\n",
    "demand_pairs = [tuple(p) for p in params_dict['demand_pairs']] \n",
    "\n",
    "# List of mean demand for each demand pair (in same order of demand_pairs)\n",
    "demand_mean = params_dict['demand_ms'] # Distribution is Gamma(μ, 1/μ) (where second parameter is scale rather than rate)\n",
    "\n",
    "\n",
    "# Routes gives set of valid routes for each demand pair\n",
    "# routes[i] gives the set of the routes for the i-th demand pair\n",
    "# and each route is defined by a set of edges\n",
    "routes_list = params_dict['routes']\n",
    "routes=[]\n",
    "for (i, p) in enumerate(demand_pairs):\n",
    "    routes.append([])\n",
    "    for rs in routes_list[i]:\n",
    "        routes[i].append([edges[l-1] for l in rs])\n",
    "\n",
    "# List containing existing capacity for each link/edge\n",
    "e = params_dict['existing_capacity']\n",
    "# Maximum total additional capacity\n",
    "b = params_dict['total_extra_capacity']"
   ]
  },
  {
   "cell_type": "markdown",
   "id": "25ef38cb",
   "metadata": {},
   "source": [
    "The following cell defines a function for sampling sets of scenarios. Note that demand has a Gamma distribution and takes as input the means of the Gamma distribution and the number of required scenarios. It returns the scenario set as a list of vectors."
   ]
  },
  {
   "cell_type": "code",
   "execution_count": 4,
   "id": "5585d233",
   "metadata": {},
   "outputs": [],
   "source": [
    "from scipy.stats import gamma\n",
    "from typing import List\n",
    "\n",
    "def sample_scenarios(num_scen : int, demand_mean : List[float]) -> List[np.array]:\n",
    "    scen_set = []\n",
    "    for s in range(num_scen):\n",
    "        #scen = gamma.rvs(np.array(demand_mean), scale=1/np.array(demand_mean))\n",
    "        scen=np.array([gamma.rvs(mu, 1/mu) for mu in demand_mean])\n",
    "        scen_set.append(scen)\n",
    "    return scen_set"
   ]
  },
  {
   "cell_type": "markdown",
   "id": "298856d2",
   "metadata": {},
   "source": [
    "The following function implements the recourse function (denoted `h(x,d)` in the paper)."
   ]
  },
  {
   "cell_type": "code",
   "execution_count": 5,
   "id": "c9f43439",
   "metadata": {},
   "outputs": [],
   "source": [
    "from gurobipy import Model, GRB, tupledict, quicksum\n",
    "\n",
    "def solve_tnp_recourse(edges, x, e, demand_pairs, routes, demand_scenario):\n",
    "    m = Model()\n",
    "\n",
    "    m.Params.outputFlag=0 # Change to 1 if you want to see output from Gurobi\n",
    "\n",
    "    num_edges = len(edges)\n",
    "    num_dem_pairs = len(demand_pairs)\n",
    "    num_routes = [len(r) for r in routes]\n",
    "\n",
    "    # Second stage\n",
    "    f = tupledict()\n",
    "    for i in range(num_dem_pairs):\n",
    "        for ri in range(num_routes[i]):\n",
    "            f[i,ri] = m.addVar(name='f[{},{}]'.format(i, ri))\n",
    "                \n",
    "    dem_unsat = m.addVars(num_dem_pairs)\n",
    "    for (li, l) in enumerate(edges):\n",
    "        edge_flow = quicksum(f[i,ri] for i in range(num_dem_pairs)\n",
    "                             for (ri, r) in enumerate(routes[i]) if l in r)\n",
    "        m.addConstr(edge_flow <= x[li] + e[li])\n",
    "\n",
    "    for i in range(num_dem_pairs):\n",
    "        total_flow = quicksum(f[i,ri] for ri in range(num_routes[i]))\n",
    "        m.addConstr(total_flow + dem_unsat[i] == demand_scenario[i])\n",
    "            \n",
    "    m.setObjective(quicksum(dem_unsat[i] for i in range(num_dem_pairs)), GRB.MINIMIZE)\n",
    "    \n",
    "    m.optimize()\n",
    "    return m.objVal, m.getAttr('x', f)"
   ]
  },
  {
   "cell_type": "markdown",
   "id": "09dbd811",
   "metadata": {},
   "source": [
    "## Deterministic Equivalent"
   ]
  },
  {
   "cell_type": "code",
   "execution_count": 7,
   "id": "1ecb00c2",
   "metadata": {},
   "outputs": [],
   "source": [
    "def add_scenario(m,x,f,s, edges,e, num_dem_pairs, routes, new_scenario, ind):\n",
    "    # ind is scenario index\n",
    "    num_routes = [len(r) for r in routes]\n",
    "    \n",
    "    #Scenario variables\n",
    "    for i in range(num_dem_pairs):\n",
    "        for ri in range(num_routes[i]):\n",
    "            f[i,ri,ind] = m.addVar(name='f[{},{},{}]'.format(i, ri,ind))\n",
    "                \n",
    "    for i in range(num_dem_pairs):\n",
    "        s[i,ind] = m.addVar(name=\"s[{},{}]\".format(i,ind))\n",
    "    \n",
    "    #Scenrario constraints\n",
    "    for (li, l) in enumerate(edges):\n",
    "        edge_flow = quicksum(f[i,ri,ind] for i in range(num_dem_pairs)\n",
    "                             for (ri, r) in enumerate(routes[i]) if l in r)\n",
    "        m.addConstr(edge_flow <= x[li] + e[li])\n",
    "\n",
    "    for i in range(num_dem_pairs):\n",
    "        total_flow = quicksum(f[i,ri,ind] for ri in range(num_routes[i]))\n",
    "        m.addConstr(total_flow + s[i,ind] == new_scenario[i])"
   ]
  },
  {
   "cell_type": "code",
   "execution_count": 8,
   "id": "f5565815",
   "metadata": {},
   "outputs": [],
   "source": [
    "def solve_tnp(edges, e, demand_pairs, routes, demand_scenarios, total_capacity):\n",
    "    m = Model()\n",
    "\n",
    "    m.Params.outputFlag=0 # Change to 1 if you want to see output from Gurobi\n",
    "\n",
    "    num_edges = len(edges) # n\n",
    "    num_dem_pairs = len(demand_pairs) # m\n",
    "    num_routes = [len(r) for r in routes] #the sum of this list is p\n",
    "    \n",
    "    x = m.addVars(num_edges)\n",
    "    m.addConstr(quicksum(x[i] for i in range(num_edges)) <= total_capacity )\n",
    "    \n",
    "    f = dict() # decision variable f_irs\n",
    "    s = dict() # decision variable s_is\n",
    "    for ind,scenario in enumerate(demand_scenarios):\n",
    "        add_scenario(m,x,f,s, edges,e, num_dem_pairs, routes, scenario, ind)\n",
    "\n",
    "    N = len(demand_scenarios)\n",
    "    m.setObjective(quicksum(s[i,ind]/N for i in range(num_dem_pairs) for ind in range(N) ), GRB.MINIMIZE)\n",
    "    m.optimize()\n",
    "    return m.objVal, m.getAttr('x', x)"
   ]
  },
  {
   "cell_type": "code",
   "execution_count": 14,
   "id": "433a9c0b",
   "metadata": {},
   "outputs": [],
   "source": [
    "from os import listdir\n",
    "import pickle as pkl \n",
    "\n",
    "fileName = \"x_tilde.pkl\"\n",
    "\n",
    "if fileName in listdir(): \n",
    "    with open(fileName,\"rb\") as f:\n",
    "        x_tilde = pkl.load(f)\n",
    "else: \n",
    "    np.random.seed(1)\n",
    "    N = 1000 \n",
    "    demand_scenarios = sample_scenarios(N, demand_mean)\n",
    "    opt_val, x_tilde = solve_tnp(edges, e, demand_pairs, routes, demand_scenarios, b)\n",
    "    print(\"Optimal value for N={} is {}\".format(N,opt_val))\n",
    "    with open(fileName,\"wb\") as f:\n",
    "        pk.dump(dict(x_tilde),f)"
   ]
  },
  {
   "cell_type": "code",
   "execution_count": 16,
   "id": "8f612243",
   "metadata": {},
   "outputs": [],
   "source": [
    "def out_of_sample_estimate(demand_scenarios,*args):\n",
    "    G = 0\n",
    "    for scenario in demand_scenarios:\n",
    "        opt_val,_ = solve_tnp_recourse(demand_scenario=scenario, *args)\n",
    "        G += opt_val\n",
    "    return G/len(demand_scenarios)"
   ]
  },
  {
   "cell_type": "code",
   "execution_count": 24,
   "id": "c5863111",
   "metadata": {},
   "outputs": [],
   "source": [
    "def sample_scenarios_antithetical(num_scen, demand_mean):\n",
    "    scen_set = []\n",
    "    uniform_sample = np.random.random((num_scen//2, len(demand_mean)))\n",
    "    def append_scenario(u):\n",
    "        scen=np.array([ gamma.ppf(ui,a=mu,loc=1/mu) for mu,ui in zip(demand_mean,u) ])\n",
    "        scen_set.append(scen)\n",
    "    for u in uniform_sample:\n",
    "        append_scenario(u)\n",
    "        append_scenario(1-u)\n",
    "    if num_scen%2:  append_scenario(np.random.random(len(demand_mean)))\n",
    "    \n",
    "    return scen_set"
   ]
  },
  {
   "cell_type": "code",
   "execution_count": 22,
   "id": "50d6e455",
   "metadata": {},
   "outputs": [],
   "source": [
    "from scipy.stats import t\n",
    "\n",
    "def optimality_gap(n,m,x_tilde,method):\n",
    "    z_n = np.zeros(m)\n",
    "    G_n = np.zeros(m)\n",
    "\n",
    "    for i in range(m):\n",
    "        print(\".\",end=\"\")\n",
    "        demand_scenarios = method(n, demand_mean)\n",
    "        z_n[i], _ =  solve_tnp(edges, e, demand_pairs, routes, demand_scenarios, b)\n",
    "        G_n[i]    =  out_of_sample_estimate(demand_scenarios,edges, x_tilde , e, demand_pairs, routes)\n",
    "    G_n  -= z_n\n",
    "    print()\n",
    "    return G_n \n",
    "\n",
    "def extract_statistics(G_n,alpha=0.05):\n",
    "    sd = np.std(G_n)\n",
    "    upper_bound = np.mean(G_n)+t.ppf(1-alpha, m-1)/np.sqrt(m)*sd\n",
    "\n",
    "    return np.mean(G_n),upper_bound"
   ]
  },
  {
   "cell_type": "code",
   "execution_count": 74,
   "id": "79dc0821",
   "metadata": {
    "scrolled": true
   },
   "outputs": [
    {
     "name": "stdout",
     "output_type": "stream",
     "text": [
      "....................................................................................................\n",
      "(9.207664163093721, 9.677179602168067)\n",
      "....................................................................................................\n",
      "(9.863991163780657, 10.398642573048226)\n"
     ]
    }
   ],
   "source": [
    "## Estimate of optimality gap using x_tilde (trained at 1000 samples) \n",
    "n=5\n",
    "m=100\n",
    "np.random.seed(1)\n",
    "G_n = optimality_gap(n,m,x_tilde,sample_scenarios_antithetical)\n",
    "print(extract_statistics(G_n))\n",
    "G_n = optimality_gap(n,m,x_tilde,sample_scenarios)\n",
    "print(extract_statistics(G_n))"
   ]
  },
  {
   "cell_type": "code",
   "execution_count": 56,
   "id": "0ff80e24",
   "metadata": {},
   "outputs": [],
   "source": [
    "def opt_gaps_and_upper_bounds(method,n_vals):\n",
    "    optimality_gaps = list()\n",
    "    upper_bounds = list()\n",
    "    m = 10\n",
    "    for n in n_vals:   \n",
    "        print(\"n={} using {}\".format(n,method.__name__), end=\"\")\n",
    "        G_n = optimality_gap(int(n),m,x_tilde,method)\n",
    "        gap , ub = extract_statistics(G_n)\n",
    "        optimality_gaps.append(gap)\n",
    "        upper_bounds.append(ub)\n",
    "    return np.array(optimality_gaps), np.array(upper_bounds)"
   ]
  },
  {
   "cell_type": "code",
   "execution_count": 43,
   "id": "f8c6b1d9",
   "metadata": {},
   "outputs": [],
   "source": [
    "n_vals = np.concatenate((np.linspace(5,50,10),np.linspace(60,100,5)))"
   ]
  },
  {
   "cell_type": "code",
   "execution_count": 64,
   "id": "9d961192",
   "metadata": {},
   "outputs": [],
   "source": [
    "fileName = \"optimality_gap_ant.pkl\"\n",
    "if fileName in listdir(): \n",
    "    with open(fileName,\"rb\") as f:\n",
    "        data = pkl.load(f)\n",
    "        opt_gaps_ant = data[\"opt_gaps\"]\n",
    "        ubs_ant = data[\"ubs\"]\n",
    "else: \n",
    "    np.random.seed(1)\n",
    "    opt_gaps_ant, ubs_ant = opt_gaps_and_upper_bounds(sample_scenarios_antithetical,n_vals)\n",
    "    with open(fileName,\"wb\") as f:\n",
    "        pk.dump(dict(opt_gaps=opt_gaps_ant,ubs=ubs_ant),f)"
   ]
  },
  {
   "cell_type": "code",
   "execution_count": 65,
   "id": "631e817e",
   "metadata": {},
   "outputs": [],
   "source": [
    "fileName = \"optimality_gap_iid.pkl\"\n",
    "if fileName in listdir(): \n",
    "    with open(fileName,\"rb\") as f:\n",
    "        data = pkl.load(f)\n",
    "        opt_gaps_iid = data[\"opt_gaps\"]\n",
    "        ubs_iid = data[\"ubs\"]\n",
    "else: \n",
    "    np.random.seed(1)\n",
    "    opt_gaps_iid, ubs_iid = opt_gaps_and_upper_bounds(sample_scenarios,n_vals)\n",
    "    with open(fileName,\"wb\") as f:\n",
    "        pk.dump(dict(opt_gaps=opt_gaps_iid,ubs=ubs_iid),f)"
   ]
  },
  {
   "cell_type": "code",
   "execution_count": 67,
   "id": "5ddcda99",
   "metadata": {},
   "outputs": [
    {
     "data": {
      "text/plain": [
       "[<matplotlib.lines.Line2D at 0x28e016ed7f0>]"
      ]
     },
     "execution_count": 67,
     "metadata": {},
     "output_type": "execute_result"
    },
    {
     "data": {
      "image/png": "[encoded data removed]",
      "text/plain": [
       "<Figure size 432x288 with 1 Axes>"
      ]
     },
     "metadata": {
      "needs_background": "light"
     },
     "output_type": "display_data"
    }
   ],
   "source": [
    "plt.semilogy(n_vals, opt_gaps_iid )\n",
    "plt.semilogy(n_vals, opt_gaps_ant )\n",
    "\n",
    "# plt.plot(n_vals, ubs_iid - opt_gaps_iid)\n",
    "# plt.plot(n_vals,ubs_ant - opt_gaps_ant)"
   ]
  },
  {
   "cell_type": "code",
   "execution_count": null,
   "id": "9004d446",
   "metadata": {},
   "outputs": [],
   "source": [
    "# plt.errorbar(n_vals,optimality_Gaps)"
   ]
  },
  {
   "cell_type": "markdown",
   "id": "89ceddce",
   "metadata": {},
   "source": [
    "## Risk aversion"
   ]
  },
  {
   "cell_type": "code",
   "execution_count": 75,
   "id": "244e3358",
   "metadata": {},
   "outputs": [
    {
     "data": {
      "text/plain": [
       "(array([0.07033121, 0.03127888, 0.02387559, 0.01665739, 0.01314083,\n",
       "        0.00906902, 0.0083287 , 0.00351656, 0.00351656, 0.00222099,\n",
       "        0.00111049, 0.00074033, 0.00037016, 0.00055525, 0.00018508,\n",
       "        0.        , 0.        , 0.        , 0.        , 0.00018508]),\n",
       " array([  0.        ,   5.40300682,  10.80601364,  16.20902045,\n",
       "         21.61202727,  27.01503409,  32.41804091,  37.82104772,\n",
       "         43.22405454,  48.62706136,  54.03006818,  59.43307499,\n",
       "         64.83608181,  70.23908863,  75.64209545,  81.04510226,\n",
       "         86.44810908,  91.8511159 ,  97.25412272, 102.65712953,\n",
       "        108.06013635]),\n",
       " <BarContainer object of 20 artists>)"
      ]
     },
     "execution_count": 75,
     "metadata": {},
     "output_type": "execute_result"
    },
    {
     "data": {
      "image/png": "[encoded data removed]",
      "text/plain": [
       "<Figure size 432x288 with 1 Axes>"
      ]
     },
     "metadata": {
      "needs_background": "light"
     },
     "output_type": "display_data"
    }
   ],
   "source": [
    "np.random.seed(1)\n",
    "N = 1000\n",
    "sample_scens = sample_scenarios_antithetical(N,demand_mean)\n",
    "opt_vals = np.zeros(N)\n",
    "for i in range(N):\n",
    "    opt_vals[i], _ = solve_tnp_recourse(edges, x_tilde, e, demand_pairs, routes, sample_scens[i])\n",
    "plt.hist(opt_vals,density=True,bins=20)"
   ]
  },
  {
   "cell_type": "code",
   "execution_count": 80,
   "id": "f1b58bc1",
   "metadata": {},
   "outputs": [],
   "source": [
    "def solve_tnp_with_beta_cvar(edges, e, demand_pairs, routes, demand_scenarios, total_capacity,beta=0.95):\n",
    "    m = Model()\n",
    "\n",
    "    m.Params.outputFlag=0 # Change to 1 if you want to see output from Gurobi\n",
    "\n",
    "    num_edges = len(edges) # n\n",
    "    num_dem_pairs = len(demand_pairs) # m\n",
    "    num_routes = [len(r) for r in routes] #the sum of this list is p\n",
    "    \n",
    "    x = m.addVars(num_edges)\n",
    "    m.addConstr(quicksum(x[i] for i in range(num_edges)) <= total_capacity )\n",
    "    \n",
    "    f = dict() # decision variable f_irs\n",
    "    s = dict() # decision variable s_is\n",
    "    for ind,scenario in enumerate(demand_scenarios):\n",
    "        add_scenario(m,x,f,s, edges,e, num_dem_pairs, routes, scenario, ind)\n",
    "    \n",
    "    N = len(demand_scenarios)\n",
    "    alpha = m.addVar(name=\"alpha\")    \n",
    "    u = m.addVars(N)\n",
    "    \n",
    "    m.addConstrs(u[ind] - quicksum(s[i,ind] for i in range(num_dem_pairs) ) + alpha >= 0 for ind in range(N)) \n",
    "    m.setObjective(alpha + 1/(1-beta) * 1/N * quicksum(u[ind] for ind in range(N)) ,GRB.MINIMIZE)\n",
    "    m.optimize()\n",
    "    return m.objVal, m.getAttr('x', x)"
   ]
  },
  {
   "cell_type": "code",
   "execution_count": 90,
   "id": "46b9aba9",
   "metadata": {},
   "outputs": [
    {
     "name": "stdout",
     "output_type": "stream",
     "text": [
      "Optimal value for N=100 using beta-cvar with beta=0 is 11.743300463844731\n",
      "Optimal value for N=100 using the original tnp formulation is 11.743300463844427\n"
     ]
    }
   ],
   "source": [
    "N=100\n",
    "np.random.seed(1)\n",
    "demand_scenarios = sample_scenarios(N, demand_mean)\n",
    "opt_val, _ = solve_tnp_with_beta_cvar(edges, e, demand_pairs, routes, demand_scenarios, b,beta=0)\n",
    "print(\"Optimal value for N={} using beta-cvar with beta=0 is {}\".format(N,opt_val))\n",
    "opt_val, _ = solve_tnp(edges, e, demand_pairs, routes, demand_scenarios, b)\n",
    "print(\"Optimal value for N={} using the original tnp formulation is {}\".format(N,opt_val))\n",
    "# Note that they have the same optimal value since for beta = 0 the beta-cvar problem\n",
    "# reduces to the original problem"
   ]
  },
  {
   "cell_type": "code",
   "execution_count": 88,
   "id": "0abf90eb",
   "metadata": {},
   "outputs": [
    {
     "name": "stdout",
     "output_type": "stream",
     "text": [
      "Optimal value for N=300 is 46.331569589061644\n",
      "Optimal value for N=300 is 37.584383934054685\n",
      "Optimal value for N=300 is 43.00886973739474\n",
      "Optimal value for N=300 is 41.47940375005446\n",
      "Optimal value for N=300 is 47.05334284665034\n"
     ]
    }
   ],
   "source": [
    "np.random.seed(1)\n",
    "for _ in range(5):\n",
    "    N = 300\n",
    "    demand_scenarios = sample_scenarios(N, demand_mean)\n",
    "    opt_val, x_tilde = solve_tnp_with_beta_cvar(edges, e, demand_pairs, routes, demand_scenarios, b,beta=0.95)\n",
    "    print(\"Optimal value for N={} is {}\".format(N,opt_val))"
   ]
  },
  {
   "cell_type": "code",
   "execution_count": null,
   "id": "e3a1c929",
   "metadata": {},
   "outputs": [],
   "source": []
  }
 ],
 "metadata": {
  "kernelspec": {
   "display_name": "my-env",
   "language": "python",
   "name": "my-env"
  },
  "language_info": {
   "codemirror_mode": {
    "name": "ipython",
    "version": 3
   },
   "file_extension": ".py",
   "mimetype": "text/x-python",
   "name": "python",
   "nbconvert_exporter": "python",
   "pygments_lexer": "ipython3",
   "version": "3.9.7"
  }
 },
 "nbformat": 4,
 "nbformat_minor": 5
}
